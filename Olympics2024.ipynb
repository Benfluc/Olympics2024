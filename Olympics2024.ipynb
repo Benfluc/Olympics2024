{
 "cells": [
  {
   "cell_type": "markdown",
   "id": "c7d95262-267b-4f93-9c23-2ec71f0c0458",
   "metadata": {},
   "source": [
    "# Análise Exploratória: Medalhistas dos Jogos Olímpicos Paris 2024"
   ]
  },
  {
   "cell_type": "markdown",
   "id": "f4daa570-563f-475f-8de9-ea0efe5efc0d",
   "metadata": {},
   "source": [
    "##### Esse projeto busca apresentar uma análise sobre os atletas ganhadores de medalhas dos jogos olímpicos de verão, Paris 2024."
   ]
  },
  {
   "cell_type": "code",
   "execution_count": 71,
   "id": "83ed87b3-f8e5-4368-be21-d277d9ba6744",
   "metadata": {
    "tags": []
   },
   "outputs": [],
   "source": [
    "#importando as bibliotecas que iremos utilizar:\n",
    "import pandas as pd\n",
    "from datetime import datetime\n",
    "import matplotlib.pyplot as plt"
   ]
  },
  {
   "cell_type": "markdown",
   "id": "9c48fded-2252-4e65-9b91-3021d0dcdf7d",
   "metadata": {},
   "source": [
    "### Conhecendo e Preparando os Dados"
   ]
  },
  {
   "cell_type": "code",
   "execution_count": 61,
   "id": "bbba65b5-8ff5-4623-a341-15e76678c622",
   "metadata": {
    "tags": []
   },
   "outputs": [],
   "source": [
    "medalhistas = pd.read_csv('medallists.csv')"
   ]
  },
  {
   "cell_type": "code",
   "execution_count": 58,
   "id": "9446f64c-c1ac-40f5-b5cf-036dbbc62632",
   "metadata": {
    "tags": []
   },
   "outputs": [
    {
     "data": {
      "text/html": [
       "<div>\n",
       "<style scoped>\n",
       "    .dataframe tbody tr th:only-of-type {\n",
       "        vertical-align: middle;\n",
       "    }\n",
       "\n",
       "    .dataframe tbody tr th {\n",
       "        vertical-align: top;\n",
       "    }\n",
       "\n",
       "    .dataframe thead th {\n",
       "        text-align: right;\n",
       "    }\n",
       "</style>\n",
       "<table border=\"1\" class=\"dataframe\">\n",
       "  <thead>\n",
       "    <tr style=\"text-align: right;\">\n",
       "      <th></th>\n",
       "      <th>medal_date</th>\n",
       "      <th>medal_type</th>\n",
       "      <th>medal_code</th>\n",
       "      <th>name</th>\n",
       "      <th>gender</th>\n",
       "      <th>country</th>\n",
       "      <th>country_code</th>\n",
       "      <th>nationality</th>\n",
       "      <th>team</th>\n",
       "      <th>team_gender</th>\n",
       "      <th>discipline</th>\n",
       "      <th>event</th>\n",
       "      <th>event_type</th>\n",
       "      <th>url_event</th>\n",
       "      <th>birth_date</th>\n",
       "      <th>code</th>\n",
       "    </tr>\n",
       "  </thead>\n",
       "  <tbody>\n",
       "    <tr>\n",
       "      <th>0</th>\n",
       "      <td>2024-07-27</td>\n",
       "      <td>Gold Medal</td>\n",
       "      <td>1</td>\n",
       "      <td>EVENEPOEL Remco</td>\n",
       "      <td>Male</td>\n",
       "      <td>Belgium</td>\n",
       "      <td>BEL</td>\n",
       "      <td>Belgium</td>\n",
       "      <td>NaN</td>\n",
       "      <td>NaN</td>\n",
       "      <td>Cycling Road</td>\n",
       "      <td>Men's Individual Time Trial</td>\n",
       "      <td>ATH</td>\n",
       "      <td>/en/paris-2024/results/cycling-road/men-s-indi...</td>\n",
       "      <td>2000-01-25</td>\n",
       "      <td>1903136</td>\n",
       "    </tr>\n",
       "    <tr>\n",
       "      <th>1</th>\n",
       "      <td>2024-07-27</td>\n",
       "      <td>Silver Medal</td>\n",
       "      <td>2</td>\n",
       "      <td>GANNA Filippo</td>\n",
       "      <td>Male</td>\n",
       "      <td>Italy</td>\n",
       "      <td>ITA</td>\n",
       "      <td>Italy</td>\n",
       "      <td>NaN</td>\n",
       "      <td>NaN</td>\n",
       "      <td>Cycling Road</td>\n",
       "      <td>Men's Individual Time Trial</td>\n",
       "      <td>ATH</td>\n",
       "      <td>/en/paris-2024/results/cycling-road/men-s-indi...</td>\n",
       "      <td>1996-07-25</td>\n",
       "      <td>1923520</td>\n",
       "    </tr>\n",
       "    <tr>\n",
       "      <th>2</th>\n",
       "      <td>2024-07-27</td>\n",
       "      <td>Bronze Medal</td>\n",
       "      <td>3</td>\n",
       "      <td>van AERT Wout</td>\n",
       "      <td>Male</td>\n",
       "      <td>Belgium</td>\n",
       "      <td>BEL</td>\n",
       "      <td>Belgium</td>\n",
       "      <td>NaN</td>\n",
       "      <td>NaN</td>\n",
       "      <td>Cycling Road</td>\n",
       "      <td>Men's Individual Time Trial</td>\n",
       "      <td>ATH</td>\n",
       "      <td>/en/paris-2024/results/cycling-road/men-s-indi...</td>\n",
       "      <td>1994-09-15</td>\n",
       "      <td>1903147</td>\n",
       "    </tr>\n",
       "    <tr>\n",
       "      <th>3</th>\n",
       "      <td>2024-07-27</td>\n",
       "      <td>Gold Medal</td>\n",
       "      <td>1</td>\n",
       "      <td>BROWN Grace</td>\n",
       "      <td>Female</td>\n",
       "      <td>Australia</td>\n",
       "      <td>AUS</td>\n",
       "      <td>Australia</td>\n",
       "      <td>NaN</td>\n",
       "      <td>NaN</td>\n",
       "      <td>Cycling Road</td>\n",
       "      <td>Women's Individual Time Trial</td>\n",
       "      <td>ATH</td>\n",
       "      <td>/en/paris-2024/results/cycling-road/women-s-in...</td>\n",
       "      <td>1992-07-07</td>\n",
       "      <td>1940173</td>\n",
       "    </tr>\n",
       "    <tr>\n",
       "      <th>4</th>\n",
       "      <td>2024-07-27</td>\n",
       "      <td>Silver Medal</td>\n",
       "      <td>2</td>\n",
       "      <td>HENDERSON Anna</td>\n",
       "      <td>Female</td>\n",
       "      <td>Great Britain</td>\n",
       "      <td>GBR</td>\n",
       "      <td>Great Britain</td>\n",
       "      <td>NaN</td>\n",
       "      <td>NaN</td>\n",
       "      <td>Cycling Road</td>\n",
       "      <td>Women's Individual Time Trial</td>\n",
       "      <td>ATH</td>\n",
       "      <td>/en/paris-2024/results/cycling-road/women-s-in...</td>\n",
       "      <td>1998-11-14</td>\n",
       "      <td>1912525</td>\n",
       "    </tr>\n",
       "  </tbody>\n",
       "</table>\n",
       "</div>"
      ],
      "text/plain": [
       "   medal_date    medal_type  medal_code             name  gender  \\\n",
       "0  2024-07-27    Gold Medal           1  EVENEPOEL Remco    Male   \n",
       "1  2024-07-27  Silver Medal           2    GANNA Filippo    Male   \n",
       "2  2024-07-27  Bronze Medal           3    van AERT Wout    Male   \n",
       "3  2024-07-27    Gold Medal           1      BROWN Grace  Female   \n",
       "4  2024-07-27  Silver Medal           2   HENDERSON Anna  Female   \n",
       "\n",
       "         country country_code    nationality team team_gender    discipline  \\\n",
       "0        Belgium          BEL        Belgium  NaN         NaN  Cycling Road   \n",
       "1          Italy          ITA          Italy  NaN         NaN  Cycling Road   \n",
       "2        Belgium          BEL        Belgium  NaN         NaN  Cycling Road   \n",
       "3      Australia          AUS      Australia  NaN         NaN  Cycling Road   \n",
       "4  Great Britain          GBR  Great Britain  NaN         NaN  Cycling Road   \n",
       "\n",
       "                           event event_type  \\\n",
       "0    Men's Individual Time Trial        ATH   \n",
       "1    Men's Individual Time Trial        ATH   \n",
       "2    Men's Individual Time Trial        ATH   \n",
       "3  Women's Individual Time Trial        ATH   \n",
       "4  Women's Individual Time Trial        ATH   \n",
       "\n",
       "                                           url_event  birth_date     code  \n",
       "0  /en/paris-2024/results/cycling-road/men-s-indi...  2000-01-25  1903136  \n",
       "1  /en/paris-2024/results/cycling-road/men-s-indi...  1996-07-25  1923520  \n",
       "2  /en/paris-2024/results/cycling-road/men-s-indi...  1994-09-15  1903147  \n",
       "3  /en/paris-2024/results/cycling-road/women-s-in...  1992-07-07  1940173  \n",
       "4  /en/paris-2024/results/cycling-road/women-s-in...  1998-11-14  1912525  "
      ]
     },
     "execution_count": 58,
     "metadata": {},
     "output_type": "execute_result"
    }
   ],
   "source": [
    "medalhistas.head()"
   ]
  },
  {
   "cell_type": "code",
   "execution_count": 59,
   "id": "b1c29a3e-9e14-452c-8f55-4f598ccc5583",
   "metadata": {
    "tags": []
   },
   "outputs": [
    {
     "data": {
      "text/plain": [
       "(2271, 16)"
      ]
     },
     "execution_count": 59,
     "metadata": {},
     "output_type": "execute_result"
    }
   ],
   "source": [
    "#Usando o comando shape onde podemos ver o total de medalhistas (2271):\n",
    "medalhistas.shape"
   ]
  },
  {
   "cell_type": "code",
   "execution_count": 60,
   "id": "f9c50ee8-7a70-41b3-bc60-12a3a22a9dce",
   "metadata": {
    "tags": []
   },
   "outputs": [
    {
     "name": "stdout",
     "output_type": "stream",
     "text": [
      "<class 'pandas.core.frame.DataFrame'>\n",
      "RangeIndex: 2271 entries, 0 to 2270\n",
      "Data columns (total 16 columns):\n",
      " #   Column        Non-Null Count  Dtype \n",
      "---  ------        --------------  ----- \n",
      " 0   medal_date    2271 non-null   object\n",
      " 1   medal_type    2271 non-null   object\n",
      " 2   medal_code    2271 non-null   int64 \n",
      " 3   name          2252 non-null   object\n",
      " 4   gender        2252 non-null   object\n",
      " 5   country       2252 non-null   object\n",
      " 6   country_code  2252 non-null   object\n",
      " 7   nationality   2250 non-null   object\n",
      " 8   team          1502 non-null   object\n",
      " 9   team_gender   1502 non-null   object\n",
      " 10  discipline    2271 non-null   object\n",
      " 11  event         2271 non-null   object\n",
      " 12  event_type    2271 non-null   object\n",
      " 13  url_event     2271 non-null   object\n",
      " 14  birth_date    2252 non-null   object\n",
      " 15  code          2271 non-null   object\n",
      "dtypes: int64(1), object(15)\n",
      "memory usage: 284.0+ KB\n"
     ]
    }
   ],
   "source": [
    "medalhistas.info()"
   ]
  },
  {
   "cell_type": "code",
   "execution_count": 82,
   "id": "04d935c6-8eeb-4897-a7b8-7154630b27aa",
   "metadata": {
    "tags": []
   },
   "outputs": [
    {
     "name": "stdout",
     "output_type": "stream",
     "text": [
      "medal_type\n",
      "Bronze Medal    792\n",
      "Gold Medal      737\n",
      "Silver Medal    742\n",
      "dtype: int64\n"
     ]
    }
   ],
   "source": [
    "Tipo = medalhistas.groupby('medal_type').size()\n",
    "print(Tipo)"
   ]
  },
  {
   "cell_type": "markdown",
   "id": "bf158999-d225-4b01-8e61-1257c08c9862",
   "metadata": {},
   "source": [
    "### Medalhistas de Ouro por Gênero"
   ]
  },
  {
   "cell_type": "code",
   "execution_count": 26,
   "id": "1ac2e474-b05e-4742-8ada-cf36800f1c20",
   "metadata": {
    "tags": []
   },
   "outputs": [],
   "source": [
    "#Localizando no data frame todos os medalhistas de ouro do sexo masculino:\n",
    "Md_masc = medalhistas.loc[(medalhistas['medal_type']=='Gold Medal') & (medalhistas['gender']== 'Male')]\n",
    "\n",
    "#Localizando no data frame todas as medalhistas de ouro do sexo feminino:\n",
    "Md_fem = medalhistas.loc[(medalhistas['medal_type']=='Gold Medal') & (medalhistas['gender']== 'Female')]"
   ]
  },
  {
   "cell_type": "code",
   "execution_count": 32,
   "id": "9f9739b4-2f0a-47c0-9405-53fa40f613c8",
   "metadata": {
    "tags": []
   },
   "outputs": [
    {
     "name": "stdout",
     "output_type": "stream",
     "text": [
      "368\n",
      "363\n"
     ]
    }
   ],
   "source": [
    "#Encontrando o total de medalhistas. Para isso vamos achar o total de linhas dos novos data frames:\n",
    "print(Md_masc.shape[0])\n",
    "print(Md_fem.shape[0])"
   ]
  },
  {
   "cell_type": "markdown",
   "id": "50a10426-1c6c-4572-9d6f-42a08ba44e83",
   "metadata": {},
   "source": [
    "### Medalhistas por Idade"
   ]
  },
  {
   "cell_type": "code",
   "execution_count": 65,
   "id": "c56abf8b-1a01-4269-9d8d-467d8ed987f2",
   "metadata": {
    "tags": []
   },
   "outputs": [
    {
     "name": "stdout",
     "output_type": "stream",
     "text": [
      "0       24.0\n",
      "1       28.0\n",
      "2       29.0\n",
      "3       32.0\n",
      "4       25.0\n",
      "        ... \n",
      "2266    30.0\n",
      "2267    21.0\n",
      "2268    18.0\n",
      "2269    29.0\n",
      "2270    29.0\n",
      "Name: idade, Length: 2271, dtype: float64\n"
     ]
    }
   ],
   "source": [
    "#Convertendo a coluna 'birth_date' para o formato datetime:\n",
    "medalhistas['birth_date'] = pd.to_datetime(medalhistas['birth_date'])\n",
    "\n",
    "#Calculando a idade atual e adicionando uma nova coluna:\n",
    "medalhistas['idade'] =  medalhistas['birth_date'].apply(lambda x: datetime.now().year - x.year - ((datetime.now().month, datetime.now().day) < (x.month, x.day)))\n",
    "\n",
    "print(medalhistas.groupby['idade'])"
   ]
  },
  {
   "cell_type": "code",
   "execution_count": 66,
   "id": "972917ed-cbe5-46bc-a394-337e6bcb6573",
   "metadata": {
    "tags": []
   },
   "outputs": [],
   "source": [
    "#Agrupando por faixa etária e adicionando uma nova coluna:\n",
    "bins = [0, 18, 25, 35, 50, 100]\n",
    "labels = ['0-18', '19-25', '26-35', '36-50', '51+']\n",
    "medalhistas['faixa_etaria'] = pd.cut(medalhistas['idade'], bins, labels=labels, right=False)"
   ]
  },
  {
   "cell_type": "code",
   "execution_count": 67,
   "id": "bb6c1f1b-1afa-4ca9-9406-2eb15c8329f6",
   "metadata": {
    "tags": []
   },
   "outputs": [
    {
     "name": "stdout",
     "output_type": "stream",
     "text": [
      "faixa_etaria\n",
      "0-18       39\n",
      "19-25     767\n",
      "26-35    1308\n",
      "36-50     133\n",
      "51+         5\n",
      "dtype: int64\n"
     ]
    }
   ],
   "source": [
    "#Exibindo a quantidade de atletas em cada faixa etária:\n",
    "Md_group = medalhistas.groupby('faixa_etaria').size()\n",
    "print(Md_group)"
   ]
  },
  {
   "cell_type": "code",
   "execution_count": 80,
   "id": "ca4350de-b2c1-4a8f-b999-756e1b2d2820",
   "metadata": {
    "tags": []
   },
   "outputs": [
    {
     "data": {
      "image/png": "[encoded data removed]",
      "text/plain": [
       "<Figure size 640x480 with 1 Axes>"
      ]
     },
     "metadata": {},
     "output_type": "display_data"
    }
   ],
   "source": [
    "#Vamos visualizar isso melhor, plotando o agrupamento de atletas medalhistas em um gráfico:\n",
    "plt.bar(labels, Md_group)\n",
    "plt.title('Medalhistas Olímpicos por Faixa Etária')\n",
    "plt.xlabel('Faixa Etária')\n",
    "plt.ylabel('Quantidade')\n",
    "plt.show()"
   ]
  },
  {
   "cell_type": "markdown",
   "id": "da509055-300d-4190-86a6-f416d6cbabec",
   "metadata": {
    "tags": []
   },
   "source": [
    "### Medalhista Mais Novo e Mais Velho:"
   ]
  },
  {
   "cell_type": "code",
   "execution_count": 68,
   "id": "33369c00-8bb7-43a1-be10-44747345dca7",
   "metadata": {
    "tags": []
   },
   "outputs": [
    {
     "name": "stdout",
     "output_type": "stream",
     "text": [
      "medal_date                                             2024-07-28\n",
      "medal_type                                             Gold Medal\n",
      "medal_code                                                      1\n",
      "name                                               YOSHIZAWA Coco\n",
      "gender                                                     Female\n",
      "country                                                     Japan\n",
      "country_code                                                  JPN\n",
      "nationality                                                 Japan\n",
      "team                                                          NaN\n",
      "team_gender                                                   NaN\n",
      "discipline                                          Skateboarding\n",
      "event                                              Women's Street\n",
      "event_type                                                    ATH\n",
      "url_event       /en/paris-2024/results/skateboarding/women-s-s...\n",
      "birth_date                                    2009-09-22 00:00:00\n",
      "code                                                      1902055\n",
      "idade                                                        14.0\n",
      "faixa_etaria                                                 0-18\n",
      "Name: 52, dtype: object\n"
     ]
    }
   ],
   "source": [
    "#Achando o(a) atleta mais novo a ganhar uma medalha nos Jogos Olímpicos 2024:\n",
    "Med_novo = medalhistas['idade'].idxmin()\n",
    "print(medalhistas.iloc[Med_novo])"
   ]
  },
  {
   "cell_type": "code",
   "execution_count": 69,
   "id": "3af7b6b3-26c2-4ff8-8d82-356519fc2f65",
   "metadata": {
    "tags": []
   },
   "outputs": [
    {
     "name": "stdout",
     "output_type": "stream",
     "text": [
      "medal_date                                             2024-08-02\n",
      "medal_type                                           Silver Medal\n",
      "medal_code                                                      2\n",
      "name                                                  KRAUT Laura\n",
      "gender                                                     Female\n",
      "country                                             United States\n",
      "country_code                                                  USA\n",
      "nationality                                         United States\n",
      "team                                     United States of America\n",
      "team_gender                                                     O\n",
      "discipline                                             Equestrian\n",
      "event                                                Jumping Team\n",
      "event_type                                                   TEAM\n",
      "url_event       /en/paris-2024/results/equestrian/jumping-team...\n",
      "birth_date                                    1965-11-14 00:00:00\n",
      "code                                                      1951840\n",
      "idade                                                        58.0\n",
      "faixa_etaria                                                  51+\n",
      "Name: 1135, dtype: object\n"
     ]
    }
   ],
   "source": [
    "#Achando o(a) atleta mais velho a ganhar uma medalha nos Jogos Olímpicos 2024:\n",
    "Med_velho = medalhistas['idade'].idxmax()\n",
    "print(medalhistas.iloc[Med_velho])"
   ]
  },
  {
   "cell_type": "code",
   "execution_count": null,
   "id": "7138b201-6ba8-415c-ac7b-b6c14dcea4fb",
   "metadata": {},
   "outputs": [],
   "source": []
  }
 ],
 "metadata": {
  "kernelspec": {
   "display_name": "Python 3 (ipykernel)",
   "language": "python",
   "name": "python3"
  },
  "language_info": {
   "codemirror_mode": {
    "name": "ipython",
    "version": 3
   },
   "file_extension": ".py",
   "mimetype": "text/x-python",
   "name": "python",
   "nbconvert_exporter": "python",
   "pygments_lexer": "ipython3",
   "version": "3.11.5"
  }
 },
 "nbformat": 4,
 "nbformat_minor": 5
}
